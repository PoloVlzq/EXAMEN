{
  "nbformat": 4,
  "nbformat_minor": 0,
  "metadata": {
    "colab": {
      "provenance": [],
      "authorship_tag": "ABX9TyPhTRM9SDxwrwfVvR53h2Vl",
      "include_colab_link": true
    },
    "kernelspec": {
      "name": "python3",
      "display_name": "Python 3"
    },
    "language_info": {
      "name": "python"
    }
  },
  "cells": [
    {
      "cell_type": "markdown",
      "metadata": {
        "id": "view-in-github",
        "colab_type": "text"
      },
      "source": [
        "<a href=\"https://colab.research.google.com/github/PoloVlzq/EXAMEN/blob/main/Problema_19.ipynb\" target=\"_parent\"><img src=\"https://colab.research.google.com/assets/colab-badge.svg\" alt=\"Open In Colab\"/></a>"
      ]
    },
    {
      "cell_type": "markdown",
      "source": [
        "# Problema 19\n",
        "Las bombillas eléctricas de un fabricante A tiene una duración media a 1400 horas con\n",
        "una desviación típica de 200 horas, mientras que las de otro fabricante B tiene una\n",
        "duración media de 1200 horas con una desviación típica de 100 horas. Si se toman\n",
        "muestras al azar de 125 bombillas de cada fabricante, ¿cual es la probabilidad de que\n",
        "las bombillas de A tengan una duración media que sea al menos(a) 160 horas, (b) 250\n",
        "horas mas quelas bombillas de B?"
      ],
      "metadata": {
        "id": "t-tr6CWsCkrS"
      }
    },
    {
      "cell_type": "code",
      "source": [
        "import random\n",
        "from random import randrange"
      ],
      "metadata": {
        "id": "Bi9Bzk6ZCpxt"
      },
      "execution_count": 1,
      "outputs": []
    },
    {
      "cell_type": "markdown",
      "source": [
        "Obtenemos los valores aleatorios de la varianza de los 125 casos para la bombilla A y B, modelamos el evento una sola vez:"
      ],
      "metadata": {
        "id": "x1-V1qV4Htkv"
      }
    },
    {
      "cell_type": "code",
      "source": [
        "#tamano de la muestra\n",
        "m=125\n",
        "#paso\n",
        "i=1\n",
        "#conjunto de duracion de las bombillas A\n",
        "a=[]\n",
        "#conjunto de duración de las bombillas B\n",
        "b=[]\n",
        "#experimento\n",
        "while m>i:\n",
        "  #variable aleatorio para la varianza de A y B\n",
        "  v1=random.randrange(-200,201,1)\n",
        "  v2=random.randrange(-100,101,1)\n",
        "  a.append(1400+v1)\n",
        "  b.append(1200+v2)\n",
        "  i=i+1\n",
        "#paso\n",
        "i=0\n",
        "#numero de muestras de A mayores a B por 160 hrs\n",
        "p=0\n",
        "#numero de muestras de A mayores a B por 250 hrs\n",
        "pp=0\n",
        "while i<124:\n",
        "  d=a[i]-b[i]\n",
        "  if d>=160:\n",
        "    p=p+1\n",
        "  if d>=250:\n",
        "    pp=pp+1\n",
        "  i=i+1\n",
        "prom=p/m\n",
        "pprom=pp/m\n",
        "print(prom)\n",
        "print(pprom)"
      ],
      "metadata": {
        "colab": {
          "base_uri": "https://localhost:8080/"
        },
        "id": "lWCQEO43DSG3",
        "outputId": "1bf2a71d-58c0-4cff-b886-e578a9273439"
      },
      "execution_count": 154,
      "outputs": [
        {
          "output_type": "stream",
          "name": "stdout",
          "text": [
            "0.552\n",
            "0.392\n"
          ]
        }
      ]
    },
    {
      "cell_type": "markdown",
      "source": [
        "Procedemos a realizar el experimento numerosas veces más en en conjuntos"
      ],
      "metadata": {
        "id": "lk0LLxe_I6ER"
      }
    },
    {
      "cell_type": "code",
      "source": [
        "#conjunto de promedios para el caso A\n",
        "pp1=[]\n",
        "#conjunto de promedios para el caso B\n",
        "pp2=[]\n",
        "#cantidad de n conjunto de eventos\n",
        "nn=50\n",
        "#paso\n",
        "iii=0\n",
        "while nn>iii:\n",
        "#promedio para el caso A\n",
        "  p1=[]\n",
        "#promedio para el caso B\n",
        "  p2=[]\n",
        "#cantidad de eventos\n",
        "  n=1000\n",
        "#paso\n",
        "  ii=0\n",
        "  while n>ii:\n",
        "    m=125\n",
        "    i=1\n",
        "    a=[]\n",
        "    b=[]\n",
        "    while m>i:\n",
        "      v1=random.randrange(-200,201,1)\n",
        "      v2=random.randrange(-100,101,1)\n",
        "      a.append(1400+v1)\n",
        "      b.append(1200+v2)\n",
        "      i=i+1\n",
        "    i=0\n",
        "    p=0\n",
        "    pp=0\n",
        "    while i<124:\n",
        "      d=a[i]-b[i]\n",
        "      if d>=160:\n",
        "        p=p+1\n",
        "      if d>=250:\n",
        "        pp=pp+1\n",
        "      i=i+1\n",
        "    prom=p/m\n",
        "    pprom=pp/m\n",
        "    p1.append(prom)\n",
        "    p2.append(pprom)\n",
        "    ii=ii+1\n",
        "  g1=sum(p1)/len(p1)\n",
        "  g2=sum(p2)/len(p2)\n",
        "  pp1.append(g1)\n",
        "  pp2.append(g2)\n",
        "  iii=iii+1  \n",
        "print(sum(pp1)/len(pp1)*100,\"%\")\n",
        "print(sum(pp2)/len(pp2)*100,\"%\")\n"
      ],
      "metadata": {
        "colab": {
          "base_uri": "https://localhost:8080/"
        },
        "id": "XzW5LxC4JBZy",
        "outputId": "4a4a7386-b96f-4b8b-9a9d-c18583e46a31"
      },
      "execution_count": 184,
      "outputs": [
        {
          "output_type": "stream",
          "name": "stdout",
          "text": [
            "59.61347199999998 %\n",
            "37.360511999999844 %\n"
          ]
        }
      ]
    },
    {
      "cell_type": "markdown",
      "source": [
        "Se observa una tendecia de los dato a 60% de probabilidad para el caso donde\n",
        "las bombillas de A tengan una duración media que sea al menos 160 horas mas que las bombillas de B\n",
        "\n",
        "Para el segundo caso donde las bombillas de A tengan una duración media que sea al menos 250 horas mas que las bombillas de B el porcentaje tiene a 37% de probabilidad"
      ],
      "metadata": {
        "id": "lay7Yyw3UYVY"
      }
    }
  ]
}