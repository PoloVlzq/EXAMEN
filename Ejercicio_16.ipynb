{
  "nbformat": 4,
  "nbformat_minor": 0,
  "metadata": {
    "colab": {
      "provenance": [],
      "authorship_tag": "ABX9TyPAGeBdTOvejz/8y38lHngm",
      "include_colab_link": true
    },
    "kernelspec": {
      "name": "python3",
      "display_name": "Python 3"
    },
    "language_info": {
      "name": "python"
    }
  },
  "cells": [
    {
      "cell_type": "markdown",
      "metadata": {
        "id": "view-in-github",
        "colab_type": "text"
      },
      "source": [
        "<a href=\"https://colab.research.google.com/github/PoloVlzq/EXAMEN/blob/main/Ejercicio_16.ipynb\" target=\"_parent\"><img src=\"https://colab.research.google.com/assets/colab-badge.svg\" alt=\"Open In Colab\"/></a>"
      ]
    },
    {
      "cell_type": "markdown",
      "source": [
        "Dos personas han quedado citas en un determinado lugar. Ambas tienen la misma\n",
        "probabilidad de llegar al lugar de la cita en el intervalo de tiempo [0, 30].\n",
        "Determínese la probabilidad de que el tiempo que una persona espere a la otra sea\n",
        "como máximo 10."
      ],
      "metadata": {
        "id": "OLA_VMX3T7Cq"
      }
    },
    {
      "cell_type": "markdown",
      "source": [
        "La densidad de probabilidad conjunta de X e Y es:\n",
        "\n",
        "$f_{XY}(x,y) =\\frac{1}{900}  $    $para$   $0 ≤ x,y≤  30$\n",
        "\n",
        "Utilizando la densidad de probabilidad conjunta de X e Y que sigue una distribución uniforme continua en el intervalo [0,30], podemos encontrar las probabilidades parciales de la siguiente manera:\n",
        "\n",
        "$P(X ≤ Y + 10, X ≥ Y)=∫_0^{20}∫_y^{y+10}\\frac{1}{900}dx dy-∫_{20}^{30}∫_{y}^{20} \\frac{1}{900} dx dy=\\frac{5}{18}$\n",
        "\n",
        "$P(Y ≤ X + 10, Y > X) =∫_{0}^{20}∫_{x}^{x+10}\\frac{1}{900} dy dx-∫_{20}^{30}∫_{x}^{20}\\frac{1}{900}dydx=\\frac{5}{18}$\n",
        "\n",
        "La probabilidad total se puede encontrar sumando las dos probabilidades parciales:\n",
        "\n",
        "$P(|X-Y| ≤ 10) = P(X ≤ Y + 10, X ≥ Y) + P(Y ≤ X + 10, Y > X)≈\\frac{5}{9}$\n",
        "\n",
        "Por lo tanto, si X e Y siguen una distribución uniforme continua en el intervalo [0,30], la probabilidad de que la diferencia absoluta entre X e Y sea menor o igual a 10 es aproximadamente 0.55556."
      ],
      "metadata": {
        "id": "qeEzt0HY3WWO"
      }
    },
    {
      "cell_type": "code",
      "source": [
        "import random \n",
        "from random import randrange"
      ],
      "metadata": {
        "id": "JHKkG0lUUDCG"
      },
      "execution_count": 1,
      "outputs": []
    },
    {
      "cell_type": "code",
      "source": [
        "#numero de veces que se ejecutan n cantidad de eventos\n",
        "nn=200\n",
        "#paso\n",
        "ii=0\n",
        "#lista de valores obtenidos despues de n eventos\n",
        "v=[]\n",
        "while nn>ii:\n",
        "#n eventos simulados\n",
        "  n=20000\n",
        "#paso\n",
        "  i=0\n",
        "#valor de veces que llega tarde a lo mas 10 min  \n",
        "  l=0\n",
        "  while n>i:\n",
        "    px=random.randrange(30)\n",
        "    py=random.randrange(30)\n",
        "    esp=abs(px-py)\n",
        "    if esp<=10:\n",
        "      l=l+1\n",
        "    i=i+1\n",
        "  #print(l)\n",
        "  prob=l/n*100\n",
        "  #print(prob,\"%\")\n",
        "  v.append(prob)\n",
        "  ii=ii+1\n",
        "prom=sum(v)/len(v)\n",
        "print(prom)\n"
      ],
      "metadata": {
        "colab": {
          "base_uri": "https://localhost:8080/"
        },
        "id": "sd2c1VwtVwD1",
        "outputId": "8442192a-7cf6-48c3-b78a-20881e6195e9"
      },
      "execution_count": 56,
      "outputs": [
        {
          "output_type": "stream",
          "name": "stdout",
          "text": [
            "57.784400000000026\n"
          ]
        }
      ]
    }
  ]
}