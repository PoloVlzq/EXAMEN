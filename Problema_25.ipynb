{
  "nbformat": 4,
  "nbformat_minor": 0,
  "metadata": {
    "colab": {
      "provenance": [],
      "authorship_tag": "ABX9TyN1tmKL+umDGAyEMaKEexTX",
      "include_colab_link": true
    },
    "kernelspec": {
      "name": "python3",
      "display_name": "Python 3"
    },
    "language_info": {
      "name": "python"
    }
  },
  "cells": [
    {
      "cell_type": "markdown",
      "metadata": {
        "id": "view-in-github",
        "colab_type": "text"
      },
      "source": [
        "<a href=\"https://colab.research.google.com/github/PoloVlzq/EXAMEN/blob/main/Problema_25.ipynb\" target=\"_parent\"><img src=\"https://colab.research.google.com/assets/colab-badge.svg\" alt=\"Open In Colab\"/></a>"
      ]
    },
    {
      "cell_type": "markdown",
      "source": [
        "# **Problema 25**\n",
        "Un quiosquero vende periódicos a 1.10 euros cada uno. Cada periódico le cuesta al quiosquero 0.90 euros. Las ventas de periódicos del quiosquero a partir de su experiencia se refleja en la tabla siguiente.\n",
        "\n",
        "![Ejercicio 25 tabla.png](data:image/png;base64,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)\n",
        "\n",
        "La tabla recoge por ejemplo que el 20 % del tiempo las ventas han sido de 30 periódicos. Teniendo en cuenta el coste de 0,20 euros por venta perdida y el coste de 0,10 euros por el reciclaje de cada periódico no vendido, determine el beneficio promedio diario si pide 50 periódicos cada día."
      ],
      "metadata": {
        "id": "7at-wYmUn9My"
      }
    },
    {
      "cell_type": "code",
      "source": [
        "import random as rd\n",
        "from random import randrange\n",
        "import matplotlib.pyplot as plt"
      ],
      "metadata": {
        "id": "GP-rNOXOpe8b"
      },
      "execution_count": 71,
      "outputs": []
    },
    {
      "cell_type": "markdown",
      "source": [
        "Se realizan n cantidad de eventos para simular las ventas por día y aproximar los costos o ganancias"
      ],
      "metadata": {
        "id": "lmzX0I0Bp63X"
      }
    },
    {
      "cell_type": "code",
      "source": [
        "#lista donde se guardaran los promedios de n eventos\n",
        "gproms=[]\n",
        "#cantidad de veces que se realizaran un conjunto de n eventos\n",
        "nn=100\n",
        "#paso\n",
        "ii=1\n",
        "while ii<=nn:\n",
        "  #cantidad de eventos\n",
        "  n=100000\n",
        "  #paso\n",
        "  i=1\n",
        "  #numero de periodicos comprado\n",
        "  per=50\n",
        "  #costo de la compra de periodicos\n",
        "  cost=(0.9)*per\n",
        "  #lista de ventas probables\n",
        "  vs=[30,40,50,60,70]\n",
        "  #lista de las ganancias por dia\n",
        "  gans=[]\n",
        "  #numero de periodicos para reciclar\n",
        "  rec=0\n",
        "  while n>=i:\n",
        "    \n",
        "    p=rd.randrange(100)\n",
        "    if p<20:\n",
        "      r=per-vs[0]\n",
        "      if r<=0:\n",
        "        v=per*1.1 \n",
        "      else:\n",
        "        v=vs[0]*1.1\n",
        "        rec=rec+r\n",
        "    if p>=20 and p<45:\n",
        "      r=per-vs[1]\n",
        "      if r<=0:\n",
        "        v=per*1.1 \n",
        "      else:\n",
        "        v=vs[1]*1.1\n",
        "        rec=rec+r\n",
        "    if p>=45 and p<70:\n",
        "      r=per-vs[2]\n",
        "      if r<=0:\n",
        "        v=per*1.1 \n",
        "      else:\n",
        "        v=vs[2]*1.1\n",
        "        rec=rec+r\n",
        "    if p>=70 and p<90:\n",
        "      r=per-vs[3]\n",
        "      if r<=0:\n",
        "        v=per*1.1 \n",
        "      else:\n",
        "        v=vs[3]*1.1\n",
        "        rec=rec+r\n",
        "    if p>=90:\n",
        "      r=per-vs[4]\n",
        "      if r<=0:\n",
        "        v=per*1.1 \n",
        "      else:\n",
        "        v=vs[4]*1.1\n",
        "        rec=rec+r\n",
        "    rec=rec/10 \n",
        "    #print (v)\n",
        "    #print (cost)\n",
        "    #print(rec)\n",
        "    Rec=rec/10\n",
        "    g=v-cost-rec\n",
        "    gans.append(g)\n",
        "    rec=0\n",
        "    i=i+1\n",
        "  #suma de las ganancias  \n",
        "  s=sum(gans)\n",
        "  #promedio ganancias\n",
        "  prom=s/len(gans)\n",
        "  #guardamos dichos promedios en lista\n",
        "  gproms.append(prom)\n",
        "  ii=ii+1\n",
        "#suma de los promedios\n",
        "ss=sum(gproms)\n",
        "#promedios de promedios\n",
        "result=ss/len(gproms)\n",
        "print (result)\n",
        "\n"
      ],
      "metadata": {
        "colab": {
          "base_uri": "https://localhost:8080/"
        },
        "id": "wqq61AcPqMsJ",
        "outputId": "d0b2d6c8-a2c1-4167-c8d4-2c74c758607b"
      },
      "execution_count": 123,
      "outputs": [
        {
          "output_type": "stream",
          "name": "stdout",
          "text": [
            "2.201380000000001\n"
          ]
        }
      ]
    },
    {
      "cell_type": "markdown",
      "source": [
        "Lo anterior arroja un promedio de 2.2 euros de ganancia si compra 50 periodicos\n",
        "\n",
        "ahora se pretende encontrar que cantidad de periodicos maximizan la ganancia por lo que se simularan uno por uno periódicos posibles de comprar y vender para graficar dichos promedios y encontrar dicho valor optimo"
      ],
      "metadata": {
        "id": "bOXPDGIqw2wL"
      }
    },
    {
      "cell_type": "code",
      "source": [
        "#lista casos de venta por n cantidad de periodico \n",
        "prs=[]\n",
        "#empzando de 1 periodico\n",
        "per=1\n",
        "#hasta 70 peridodicos\n",
        "while per<=70:\n",
        "  #cantidad de eventos\n",
        "  n=10000\n",
        "  #paso\n",
        "  i=1\n",
        "  #numero de periodicos comprado\n",
        "  #costo de la compra de periodicos\n",
        "  cost=(0.9)*per\n",
        "  #lista de ventas probables\n",
        "  vs=[30,40,50,60,70]\n",
        "  #lista de las ganancias por dia\n",
        "  gans=[]\n",
        "  #numero de periodicos para reciclar\n",
        "  rec=0\n",
        "  while n>=i:\n",
        "    p=rd.randrange(100)\n",
        "    if p<20:\n",
        "      r=per-vs[0]\n",
        "      if r<=0:\n",
        "        v=per*1.1 \n",
        "      else:\n",
        "        v=vs[0]*1.1\n",
        "        rec=rec+r\n",
        "    if p>=20 and p<45:\n",
        "      r=per-vs[1]\n",
        "      if r<=0:\n",
        "        v=per*1.1 \n",
        "      else:\n",
        "        v=vs[1]*1.1\n",
        "        rec=rec+r\n",
        "    if p>=45 and p<70:\n",
        "      r=per-vs[2]\n",
        "      if r<=0:\n",
        "        v=per*1.1 \n",
        "      else:\n",
        "        v=vs[2]*1.1\n",
        "        rec=rec+r\n",
        "    if p>=70 and p<90:\n",
        "      r=per-vs[3]\n",
        "      if r<=0:\n",
        "        v=per*1.1 \n",
        "      else:\n",
        "        v=vs[3]*1.1\n",
        "        rec=rec+r\n",
        "    if p>=90:\n",
        "      r=per-vs[4]\n",
        "      if r<=0:\n",
        "        v=per*1.1 \n",
        "      else:\n",
        "        v=vs[4]*1.1\n",
        "        rec=rec+r\n",
        "    rec=rec/10 \n",
        "    Rec=rec/10\n",
        "    g=v-cost-rec\n",
        "    gans.append(g)\n",
        "    rec=0\n",
        "    i=i+1\n",
        "  s=sum(gans)\n",
        "  prom=s/len(gans)\n",
        "  prs.append(prom)\n",
        "  #print(per,\"periodicos vendidos arroja ganancias prom de\",prom)\n",
        "  per=per+1\n",
        "#lugar donde se encuentra el maximo de todos los n cantidad de peridodicos vendidos\n",
        "#notese que se suma 1 puesto que la lista contabiliza lugares desde cero\n",
        "print(prs.index(max(prs))+1)\n",
        "plt.plot(prs)\n",
        "plt.show(prs)"
      ],
      "metadata": {
        "colab": {
          "base_uri": "https://localhost:8080/",
          "height": 448
        },
        "id": "beSfJzetxdmj",
        "outputId": "850a04a3-bfc5-4761-df41-af3355b2a4fa"
      },
      "execution_count": 124,
      "outputs": [
        {
          "output_type": "stream",
          "name": "stdout",
          "text": [
            "30\n"
          ]
        },
        {
          "output_type": "display_data",
          "data": {
            "text/plain": [
              "<Figure size 640x480 with 1 Axes>"
            ],
            "image/png": "[encoded data removed]"
          },
          "metadata": {}
        }
      ]
    },
    {
      "cell_type": "markdown",
      "source": [
        "En la tabla anterior podemos observar que el maximo es 29 puesto que la lista numera los espacios empezando de cero, dicho lo anterior el número de periódicos en los que se debe invertir es de 30 para asi optimizar la ganancia"
      ],
      "metadata": {
        "id": "Y35qzOF61VsU"
      }
    }
  ]
}